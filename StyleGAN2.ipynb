{
  "nbformat": 4,
  "nbformat_minor": 0,
  "metadata": {
    "colab": {
      "name": "StyleGAN2.ipynb",
      "provenance": [],
      "collapsed_sections": [
        "N0wX_GxarslT",
        "ovOZ16TjZgWQ",
        "Aj-3t7dM98dj",
        "iL6_7wnZKo3w",
        "uDtZ9CVSBvkZ",
        "yZcnE66aUS88"
      ],
      "machine_shape": "hm"
    },
    "kernelspec": {
      "name": "python3",
      "display_name": "Python 3"
    },
    "accelerator": "GPU"
  },
  "cells": [
    {
      "cell_type": "markdown",
      "metadata": {
        "id": "8UDVO2FGKIQw",
        "colab_type": "text"
      },
      "source": [
        "# StyleGAN2\n",
        "\n",
        "Notebooks:\n",
        "- this notebook: https://github.com/woctezuma/steam-stylegan2\n",
        "- another of my notebooks: https://github.com/woctezuma/steam-stylegan\n",
        "\n",
        "References:\n",
        "- the original StyleGAN2 repository: https://github.com/NVlabs/stylegan2\n",
        "- my fork of StyleGAN2: https://github.com/woctezuma/stylegan2\n",
        "\n"
      ]
    },
    {
      "cell_type": "markdown",
      "metadata": {
        "id": "N0wX_GxarslT",
        "colab_type": "text"
      },
      "source": [
        "## Request more RAM (once per session)"
      ]
    },
    {
      "cell_type": "markdown",
      "metadata": {
        "id": "Qjh5oBhkru6O",
        "colab_type": "text"
      },
      "source": [
        "Crash the Google Colab session to have access to more memory.\n",
        "\n",
        "Reference: https://github.com/googlecolab/colabtools/issues/253#issuecomment-551056637"
      ]
    },
    {
      "cell_type": "code",
      "metadata": {
        "id": "lLP2m_K1sgu4",
        "colab_type": "code",
        "colab": {}
      },
      "source": [
        "d = [ '0' ]\n",
        "while(True):\n",
        "  d += d"
      ],
      "execution_count": 0,
      "outputs": []
    },
    {
      "cell_type": "markdown",
      "metadata": {
        "id": "g0oZRRs2KO5A",
        "colab_type": "text"
      },
      "source": [
        "## Installing StyleGAN2"
      ]
    },
    {
      "cell_type": "markdown",
      "metadata": {
        "id": "hNkwlDEyZdGM",
        "colab_type": "text"
      },
      "source": [
        "### The official StyleGAN2 implementation"
      ]
    },
    {
      "cell_type": "code",
      "metadata": {
        "id": "kKTH4FGzCbaq",
        "colab_type": "code",
        "outputId": "05d95052-f641-4e37-eb71-ed11295e247f",
        "colab": {
          "base_uri": "https://localhost:8080/",
          "height": 35
        }
      },
      "source": [
        "%cd /content/"
      ],
      "execution_count": 1,
      "outputs": [
        {
          "output_type": "stream",
          "text": [
            "/content\n"
          ],
          "name": "stdout"
        }
      ]
    },
    {
      "cell_type": "markdown",
      "metadata": {
        "id": "c4r0G3p5AJa0",
        "colab_type": "text"
      },
      "source": [
        "Clone my fork:"
      ]
    },
    {
      "cell_type": "code",
      "metadata": {
        "id": "mGDunHOOKtFQ",
        "colab_type": "code",
        "outputId": "d36e0d6e-3214-4bfa-cc64-489714b013d8",
        "colab": {
          "base_uri": "https://localhost:8080/",
          "height": 146
        }
      },
      "source": [
        "!rm -rf stylegan2/\n",
        "!git clone https://github.com/woctezuma/stylegan2.git"
      ],
      "execution_count": 2,
      "outputs": [
        {
          "output_type": "stream",
          "text": [
            "Cloning into 'stylegan2'...\n",
            "remote: Enumerating objects: 21, done.\u001b[K\n",
            "remote: Counting objects: 100% (21/21), done.\u001b[K\n",
            "remote: Compressing objects: 100% (15/15), done.\u001b[K\n",
            "remote: Total 119 (delta 12), reused 15 (delta 6), pack-reused 98\u001b[K\n",
            "Receiving objects: 100% (119/119), 1.02 MiB | 1.38 MiB/s, done.\n",
            "Resolving deltas: 100% (45/45), done.\n"
          ],
          "name": "stdout"
        }
      ]
    },
    {
      "cell_type": "code",
      "metadata": {
        "id": "JcD42lGyCSJB",
        "colab_type": "code",
        "outputId": "3882a917-7a94-4858-aa79-ee2370d54cef",
        "colab": {
          "base_uri": "https://localhost:8080/",
          "height": 35
        }
      },
      "source": [
        "pushd"
      ],
      "execution_count": 3,
      "outputs": [
        {
          "output_type": "execute_result",
          "data": {
            "text/plain": [
              "['/content']"
            ]
          },
          "metadata": {
            "tags": []
          },
          "execution_count": 3
        }
      ]
    },
    {
      "cell_type": "code",
      "metadata": {
        "id": "zRIGHRXG9WUp",
        "colab_type": "code",
        "outputId": "d25d512a-3c5a-42ee-f2ee-0d1fb8fb2df8",
        "colab": {
          "base_uri": "https://localhost:8080/",
          "height": 35
        }
      },
      "source": [
        "%cd stylegan2/"
      ],
      "execution_count": 4,
      "outputs": [
        {
          "output_type": "stream",
          "text": [
            "/content/stylegan2\n"
          ],
          "name": "stdout"
        }
      ]
    },
    {
      "cell_type": "markdown",
      "metadata": {
        "id": "5wg7bIVpb5LM",
        "colab_type": "text"
      },
      "source": [
        "Switch to my branch for Google Colab:"
      ]
    },
    {
      "cell_type": "code",
      "metadata": {
        "id": "iVE7uZHRb11i",
        "colab_type": "code",
        "colab": {}
      },
      "source": [
        "!git checkout google-colab-fixed"
      ],
      "execution_count": 0,
      "outputs": []
    },
    {
      "cell_type": "code",
      "metadata": {
        "id": "6aM4C4Ho9g-A",
        "colab_type": "code",
        "outputId": "3366b2db-842a-4fa4-9dd4-11673ef4ff5c",
        "colab": {
          "base_uri": "https://localhost:8080/",
          "height": 54
        }
      },
      "source": [
        "!nvcc test_nvcc.cu -o test_nvcc -run"
      ],
      "execution_count": 6,
      "outputs": [
        {
          "output_type": "stream",
          "text": [
            "CPU says hello.\n",
            "GPU says hello.\n"
          ],
          "name": "stdout"
        }
      ]
    },
    {
      "cell_type": "code",
      "metadata": {
        "id": "nuI-CfYYCSy-",
        "colab_type": "code",
        "outputId": "b84b3165-d3ff-4e5a-e224-7d88e0e355f3",
        "colab": {
          "base_uri": "https://localhost:8080/",
          "height": 54
        }
      },
      "source": [
        "popd"
      ],
      "execution_count": 7,
      "outputs": [
        {
          "output_type": "stream",
          "text": [
            "/content\n",
            "popd -> /content\n"
          ],
          "name": "stdout"
        }
      ]
    },
    {
      "cell_type": "markdown",
      "metadata": {
        "id": "ovOZ16TjZgWQ",
        "colab_type": "text"
      },
      "source": [
        "### (optional) An alternative implementation in PyTorch"
      ]
    },
    {
      "cell_type": "code",
      "metadata": {
        "id": "OBvFTNZuZoIv",
        "colab_type": "code",
        "colab": {}
      },
      "source": [
        "pip install stylegan2_pytorch"
      ],
      "execution_count": 0,
      "outputs": []
    },
    {
      "cell_type": "markdown",
      "metadata": {
        "id": "VgwgYzlkyCrU",
        "colab_type": "text"
      },
      "source": [
        "## Mounting Google Drive"
      ]
    },
    {
      "cell_type": "code",
      "metadata": {
        "id": "GmokzZyCKA5o",
        "colab_type": "code",
        "outputId": "f5fc2739-12ee-4e2e-e9ea-7148f632fd70",
        "colab": {
          "base_uri": "https://localhost:8080/",
          "height": 90
        }
      },
      "source": [
        "!pip install Google-Colab-Transfer"
      ],
      "execution_count": 8,
      "outputs": [
        {
          "output_type": "stream",
          "text": [
            "Collecting Google-Colab-Transfer\n",
            "  Downloading https://files.pythonhosted.org/packages/e7/53/c56c225c6e147bf68f79e9f6773549a167af5da0b18d362bc7a62bdef9a1/Google_Colab_Transfer-0.1.4-py3-none-any.whl\n",
            "Installing collected packages: Google-Colab-Transfer\n",
            "Successfully installed Google-Colab-Transfer-0.1.4\n"
          ],
          "name": "stdout"
        }
      ]
    },
    {
      "cell_type": "code",
      "metadata": {
        "id": "PXvJm3hCKWGf",
        "colab_type": "code",
        "outputId": "1d6e1e5e-ea6a-44b3-f93e-04f534cadcab",
        "colab": {
          "base_uri": "https://localhost:8080/",
          "height": 54
        }
      },
      "source": [
        "import colab_transfer\n",
        "\n",
        "colab_path = colab_transfer.get_path_to_home_of_local_machine()\n",
        "drive_path = colab_transfer.get_path_to_home_of_google_drive()\n",
        "\n",
        "print('Disk of the virtual matchine: {}'.format(colab_path))\n",
        "print('Google Drive: {}'.format(drive_path))"
      ],
      "execution_count": 9,
      "outputs": [
        {
          "output_type": "stream",
          "text": [
            "Disk of the virtual matchine: /content/\n",
            "Google Drive: /content/drive/My Drive/\n"
          ],
          "name": "stdout"
        }
      ]
    },
    {
      "cell_type": "code",
      "metadata": {
        "id": "Tpi-xxZxAD_V",
        "colab_type": "code",
        "colab": {
          "base_uri": "https://localhost:8080/",
          "height": 129
        },
        "outputId": "a72d96ff-cf09-46d5-9c19-561a58c0886a"
      },
      "source": [
        "colab_transfer.mount_google_drive()"
      ],
      "execution_count": 10,
      "outputs": [
        {
          "output_type": "stream",
          "text": [
            "Go to this URL in a browser: https://accounts.google.com/o/oauth2/auth?client_id=947318989803-6bn6qk8qdgf4n4g3pfee6491hc0brc4i.apps.googleusercontent.com&redirect_uri=urn%3aietf%3awg%3aoauth%3a2.0%3aoob&response_type=code&scope=email%20https%3a%2f%2fwww.googleapis.com%2fauth%2fdocs.test%20https%3a%2f%2fwww.googleapis.com%2fauth%2fdrive%20https%3a%2f%2fwww.googleapis.com%2fauth%2fdrive.photos.readonly%20https%3a%2f%2fwww.googleapis.com%2fauth%2fpeopleapi.readonly\n",
            "\n",
            "Enter your authorization code:\n",
            "··········\n",
            "Mounted at /content/drive/\n"
          ],
          "name": "stdout"
        }
      ]
    },
    {
      "cell_type": "markdown",
      "metadata": {
        "id": "S4DIqyvHz54C",
        "colab_type": "text"
      },
      "source": [
        "## Data parameters"
      ]
    },
    {
      "cell_type": "code",
      "metadata": {
        "id": "57TSMi1NzmNJ",
        "colab_type": "code",
        "colab": {}
      },
      "source": [
        "folder_name = 'datasets/steam/'"
      ],
      "execution_count": 0,
      "outputs": []
    },
    {
      "cell_type": "markdown",
      "metadata": {
        "id": "ruo5KFL4yw0j",
        "colab_type": "text"
      },
      "source": [
        "## Preparing datasets (once)"
      ]
    },
    {
      "cell_type": "markdown",
      "metadata": {
        "id": "Aj-3t7dM98dj",
        "colab_type": "text"
      },
      "source": [
        "### Importing data from Google Drive"
      ]
    },
    {
      "cell_type": "markdown",
      "metadata": {
        "id": "OwMz7FvWboio",
        "colab_type": "text"
      },
      "source": [
        "Data consists of 14,035 vertical Steam banners, resized from 300x450 to 256x256 resolution."
      ]
    },
    {
      "cell_type": "code",
      "metadata": {
        "id": "UyTYYYpU8mie",
        "colab_type": "code",
        "outputId": "5f6981fc-ca6e-4a13-dbaa-81bc6ceaa9cb",
        "colab": {
          "base_uri": "https://localhost:8080/",
          "height": 35
        }
      },
      "source": [
        "colab_transfer.copy_file(file_name='256x256.zip')"
      ],
      "execution_count": 0,
      "outputs": [
        {
          "output_type": "stream",
          "text": [
            "File /content/256x256.zip already exists. Copy skipped.\n"
          ],
          "name": "stdout"
        }
      ]
    },
    {
      "cell_type": "code",
      "metadata": {
        "id": "04SYpwjy8_5G",
        "colab_type": "code",
        "colab": {}
      },
      "source": [
        "!unzip 256x256.zip -d /content/"
      ],
      "execution_count": 0,
      "outputs": []
    },
    {
      "cell_type": "markdown",
      "metadata": {
        "id": "iL6_7wnZKo3w",
        "colab_type": "text"
      },
      "source": [
        "### Preparing data for StyleGAN2"
      ]
    },
    {
      "cell_type": "code",
      "metadata": {
        "id": "whUYxCDgK66P",
        "colab_type": "code",
        "outputId": "947ccd40-d8ec-4339-e765-c5408c6600c7",
        "colab": {
          "base_uri": "https://localhost:8080/",
          "height": 72
        }
      },
      "source": [
        "!python stylegan2/dataset_tool.py create_from_images '/content/datasets/steam' '/content/256x256'"
      ],
      "execution_count": 0,
      "outputs": [
        {
          "output_type": "stream",
          "text": [
            "Loading images from \"/content/256x256\"\n",
            "Creating dataset \"/content/datasets/steam\"\n",
            "Added 14035 images.\n"
          ],
          "name": "stdout"
        }
      ]
    },
    {
      "cell_type": "markdown",
      "metadata": {
        "id": "uDtZ9CVSBvkZ",
        "colab_type": "text"
      },
      "source": [
        "### Archive prepared datasets to Google Drive"
      ]
    },
    {
      "cell_type": "code",
      "metadata": {
        "id": "5b5PxndUQjvp",
        "colab_type": "code",
        "outputId": "765d3efd-b18d-45bd-fc2a-55ae8697550a",
        "colab": {
          "base_uri": "https://localhost:8080/",
          "height": 35
        }
      },
      "source": [
        "colab_transfer.copy_folder(folder_name,\n",
        "                           source=colab_path,\n",
        "                           destination=drive_path)"
      ],
      "execution_count": 0,
      "outputs": [
        {
          "output_type": "stream",
          "text": [
            "Copying /content/datasets/steam/ to /content/drive/My Drive/datasets/steam/\n"
          ],
          "name": "stdout"
        }
      ]
    },
    {
      "cell_type": "markdown",
      "metadata": {
        "id": "K-gghiqKRddO",
        "colab_type": "text"
      },
      "source": [
        "## Importing prepared datasets from Google Drive"
      ]
    },
    {
      "cell_type": "code",
      "metadata": {
        "id": "8SE22FIqBStI",
        "colab_type": "code",
        "outputId": "5318e098-1511-46ed-fce3-777577459ece",
        "colab": {
          "base_uri": "https://localhost:8080/",
          "height": 35
        }
      },
      "source": [
        "colab_transfer.copy_folder(folder_name,\n",
        "                           source=drive_path,\n",
        "                           destination=colab_path)"
      ],
      "execution_count": 12,
      "outputs": [
        {
          "output_type": "stream",
          "text": [
            "Copying /content/drive/My Drive/datasets/steam/ to /content/datasets/steam/\n"
          ],
          "name": "stdout"
        }
      ]
    },
    {
      "cell_type": "markdown",
      "metadata": {
        "id": "RWpIjP7hKzJZ",
        "colab_type": "text"
      },
      "source": [
        "## Training networks"
      ]
    },
    {
      "cell_type": "markdown",
      "metadata": {
        "id": "lSZg2xJznZkI",
        "colab_type": "text"
      },
      "source": [
        "There is no need to edit `training/training_loop.py`, thanks to automatic resuming from the latest snapshot, implemented in my fork.\n",
        "\n",
        "Otherwise, one would have to manually edit the file from within the Google Colab session!"
      ]
    },
    {
      "cell_type": "markdown",
      "metadata": {
        "id": "4iFEnZL42vQi",
        "colab_type": "text"
      },
      "source": [
        "### Train with the official StyleGAN2 implementation"
      ]
    },
    {
      "cell_type": "markdown",
      "metadata": {
        "id": "eofNxzR97Fah",
        "colab_type": "text"
      },
      "source": [
        "Our Steam data consists of ~14k images, which exhibits a similar dataset size to the [FFHQ dataset](https://github.com/NVlabs/ffhq-dataset) (70k images, so 5 times larger).\n",
        "\n",
        "Therefore, the parameters used for our data are inspired from the ones described in the StyleGAN2 README for the FFHQ dataset:\n",
        "- `--mirror-augment=true`: data augmentation with horitontal mirroring,\n",
        "- `--total-kimg=5000`: during training with our Steam data, StyleGAN2 will be shown 5 times fewer images than during training with the FFHQ data (the default value used for FFHQ is 25 million images: `--total-kimg=25000`).\n",
        "\n",
        "Model snapshots are directly saved to Google Drive (`--result-dir='/content/drive/My Drive/results'`)."
      ]
    },
    {
      "cell_type": "code",
      "metadata": {
        "id": "DhPl13bPMaWd",
        "colab_type": "code",
        "colab": {}
      },
      "source": [
        "!python stylegan2/run_training.py --config=config-e --metrics=none \\\n",
        "   --data-dir='/content/datasets' --dataset=steam \\\n",
        "   --mirror-augment=true \\\n",
        "   --total-kimg=5000 \\\n",
        "   --result-dir='/content/drive/My Drive/results' \\\n"
      ],
      "execution_count": 0,
      "outputs": []
    },
    {
      "cell_type": "markdown",
      "metadata": {
        "id": "yZcnE66aUS88",
        "colab_type": "text"
      },
      "source": [
        "### (optional) Train with an alternative implementation in PyTorch"
      ]
    },
    {
      "cell_type": "code",
      "metadata": {
        "id": "C8S0Xb_tUdkC",
        "colab_type": "code",
        "colab": {}
      },
      "source": [
        "# !stylegan2_pytorch --data /content/256x256 --image-size 256 \\\n",
        "#    --results_dir '/content/drive/My Drive/pytorch/results' \\\n",
        "#    --models_dir '/content/drive/My Drive/pytorch/models' \\\n",
        "#    --name steam   "
      ],
      "execution_count": 0,
      "outputs": []
    },
    {
      "cell_type": "markdown",
      "metadata": {
        "id": "TC68UyzRMBXW",
        "colab_type": "text"
      },
      "source": [
        "## Generating images"
      ]
    },
    {
      "cell_type": "markdown",
      "metadata": {
        "id": "D3ZBUzKz2yRG",
        "colab_type": "text"
      },
      "source": [
        "### Load the snapshots from Google Drive"
      ]
    },
    {
      "cell_type": "code",
      "metadata": {
        "id": "8sjgaQS0EAoa",
        "colab_type": "code",
        "colab": {}
      },
      "source": [
        "result_root_folder = 'results/'"
      ],
      "execution_count": 0,
      "outputs": []
    },
    {
      "cell_type": "code",
      "metadata": {
        "id": "YepcGIwY3wc2",
        "colab_type": "code",
        "colab": {}
      },
      "source": [
        "result_folder_name_to_load = '00000-stylegan2-steam-1gpu-config-e'"
      ],
      "execution_count": 0,
      "outputs": []
    },
    {
      "cell_type": "code",
      "metadata": {
        "id": "B89Gw4gs2uJS",
        "colab_type": "code",
        "colab": {}
      },
      "source": [
        "colab_transfer.copy_folder(result_folder_name_to_load,\n",
        "                           source=drive_path + result_root_folder,\n",
        "                           destination=colab_path + result_root_folder)"
      ],
      "execution_count": 0,
      "outputs": []
    },
    {
      "cell_type": "markdown",
      "metadata": {
        "id": "NhMX-zHeaU1R",
        "colab_type": "text"
      },
      "source": [
        "### Using the first snapshot"
      ]
    },
    {
      "cell_type": "code",
      "metadata": {
        "id": "vBDpscI6F0Dm",
        "colab_type": "code",
        "colab": {}
      },
      "source": [
        "# Generate 1000 random images without truncation\n",
        "!python stylegan2/run_generator.py generate-images \\\n",
        "  --seeds=0-999 --truncation-psi=1.0 \\\n",
        "  --network=results/00000-stylegan2-steam-1gpu-config-e/network-snapshot-000000.pkl"
      ],
      "execution_count": 0,
      "outputs": []
    },
    {
      "cell_type": "markdown",
      "metadata": {
        "id": "rmiRsfUzaW4F",
        "colab_type": "text"
      },
      "source": [
        "### Using the last snapshot"
      ]
    },
    {
      "cell_type": "code",
      "metadata": {
        "id": "l0U5xBeUMKIn",
        "colab_type": "code",
        "colab": {}
      },
      "source": [
        "# Generate 1000 random images without truncation\n",
        "!python stylegan2/run_generator.py generate-images \\\n",
        "  --seeds=0-999 --truncation-psi=1.0 \\\n",
        "  --network=results/00000-stylegan2-steam-1gpu-config-e/networks-final.pkl"
      ],
      "execution_count": 0,
      "outputs": []
    }
  ]
}