{
  "nbformat": 4,
  "nbformat_minor": 0,
  "metadata": {
    "colab": {
      "name": "StyleGAN2.ipynb",
      "provenance": [],
      "collapsed_sections": [
        "Aj-3t7dM98dj",
        "iL6_7wnZKo3w",
        "uDtZ9CVSBvkZ"
      ]
    },
    "kernelspec": {
      "name": "python3",
      "display_name": "Python 3"
    },
    "accelerator": "GPU"
  },
  "cells": [
    {
      "cell_type": "markdown",
      "metadata": {
        "id": "8UDVO2FGKIQw",
        "colab_type": "text"
      },
      "source": [
        "# StyleGAN2\n",
        "\n",
        "Notebooks:\n",
        "- this notebook: https://github.com/woctezuma/steam-stylegan2\n",
        "- another of my notebooks: https://github.com/woctezuma/steam-stylegan\n",
        "\n",
        "References:\n",
        "- the original StyleGAN2 repository: https://github.com/NVlabs/stylegan2\n",
        "- my fork of StyleGAN2: https://github.com/woctezuma/stylegan2\n",
        "\n"
      ]
    },
    {
      "cell_type": "markdown",
      "metadata": {
        "id": "g0oZRRs2KO5A",
        "colab_type": "text"
      },
      "source": [
        "## Installing StyleGAN2"
      ]
    },
    {
      "cell_type": "markdown",
      "metadata": {
        "id": "hNkwlDEyZdGM",
        "colab_type": "text"
      },
      "source": [
        "### The official StyleGAN2 implementation"
      ]
    },
    {
      "cell_type": "code",
      "metadata": {
        "id": "kKTH4FGzCbaq",
        "colab_type": "code",
        "outputId": "390cc92f-fda1-4a24-e6d8-e4b20e3ce2e3",
        "colab": {
          "base_uri": "https://localhost:8080/",
          "height": 35
        }
      },
      "source": [
        "%cd /content/"
      ],
      "execution_count": 9,
      "outputs": [
        {
          "output_type": "stream",
          "text": [
            "/content\n"
          ],
          "name": "stdout"
        }
      ]
    },
    {
      "cell_type": "markdown",
      "metadata": {
        "id": "c4r0G3p5AJa0",
        "colab_type": "text"
      },
      "source": [
        "Clone my fork:"
      ]
    },
    {
      "cell_type": "code",
      "metadata": {
        "id": "mGDunHOOKtFQ",
        "colab_type": "code",
        "outputId": "3313b244-c7bc-4e90-9bc5-a68d44d5569a",
        "colab": {
          "base_uri": "https://localhost:8080/",
          "height": 146
        }
      },
      "source": [
        "!rm -rf stylegan2/\n",
        "!git clone https://github.com/woctezuma/stylegan2.git"
      ],
      "execution_count": 10,
      "outputs": [
        {
          "output_type": "stream",
          "text": [
            "Cloning into 'stylegan2'...\n",
            "remote: Enumerating objects: 4, done.\u001b[K\n",
            "remote: Counting objects:  25% (1/4)\u001b[K\rremote: Counting objects:  50% (2/4)\u001b[K\rremote: Counting objects:  75% (3/4)\u001b[K\rremote: Counting objects: 100% (4/4)\u001b[K\rremote: Counting objects: 100% (4/4), done.\u001b[K\n",
            "remote: Compressing objects:  25% (1/4)\u001b[K\rremote: Compressing objects:  50% (2/4)\u001b[K\rremote: Compressing objects:  75% (3/4)\u001b[K\rremote: Compressing objects: 100% (4/4)\u001b[K\rremote: Compressing objects: 100% (4/4), done.\u001b[K\n",
            "Receiving objects:   0% (1/102)   \rReceiving objects:   1% (2/102)   \rReceiving objects:   2% (3/102)   \rReceiving objects:   3% (4/102)   \rReceiving objects:   4% (5/102)   \rReceiving objects:   5% (6/102)   \rReceiving objects:   6% (7/102)   \rReceiving objects:   7% (8/102)   \rReceiving objects:   8% (9/102)   \rReceiving objects:   9% (10/102)   \rReceiving objects:  10% (11/102)   \rReceiving objects:  11% (12/102)   \rReceiving objects:  12% (13/102)   \rReceiving objects:  13% (14/102)   \rReceiving objects:  14% (15/102)   \rReceiving objects:  15% (16/102)   \rReceiving objects:  16% (17/102)   \rReceiving objects:  17% (18/102)   \rReceiving objects:  18% (19/102)   \rReceiving objects:  19% (20/102)   \rReceiving objects:  20% (21/102)   \rReceiving objects:  21% (22/102)   \rReceiving objects:  22% (23/102)   \rReceiving objects:  23% (24/102)   \rReceiving objects:  24% (25/102)   \rReceiving objects:  25% (26/102)   \rReceiving objects:  26% (27/102)   \rReceiving objects:  27% (28/102)   \rReceiving objects:  28% (29/102)   \rReceiving objects:  29% (30/102)   \rReceiving objects:  30% (31/102)   \rReceiving objects:  31% (32/102)   \rReceiving objects:  32% (33/102)   \rReceiving objects:  33% (34/102)   \rReceiving objects:  34% (35/102)   \rReceiving objects:  35% (36/102)   \rReceiving objects:  36% (37/102)   \rReceiving objects:  37% (38/102)   \rReceiving objects:  38% (39/102)   \rReceiving objects:  39% (40/102)   \rReceiving objects:  40% (41/102)   \rReceiving objects:  41% (42/102)   \rReceiving objects:  42% (43/102)   \rReceiving objects:  43% (44/102)   \rReceiving objects:  44% (45/102)   \rReceiving objects:  45% (46/102)   \rReceiving objects:  46% (47/102)   \rReceiving objects:  47% (48/102)   \rReceiving objects:  48% (49/102)   \rReceiving objects:  49% (50/102)   \rReceiving objects:  50% (51/102)   \rReceiving objects:  51% (53/102)   \rReceiving objects:  52% (54/102)   \rReceiving objects:  53% (55/102)   \rReceiving objects:  54% (56/102)   \rReceiving objects:  55% (57/102)   \rReceiving objects:  56% (58/102)   \rReceiving objects:  57% (59/102)   \rReceiving objects:  58% (60/102)   \rReceiving objects:  59% (61/102)   \rReceiving objects:  60% (62/102)   \rReceiving objects:  61% (63/102)   \rReceiving objects:  62% (64/102)   \rReceiving objects:  63% (65/102)   \rReceiving objects:  64% (66/102)   \rReceiving objects:  65% (67/102)   \rReceiving objects:  66% (68/102)   \rReceiving objects:  67% (69/102)   \rReceiving objects:  68% (70/102)   \rReceiving objects:  69% (71/102)   \rReceiving objects:  70% (72/102)   \rReceiving objects:  71% (73/102)   \rReceiving objects:  72% (74/102)   \rReceiving objects:  73% (75/102)   \rReceiving objects:  74% (76/102)   \rReceiving objects:  75% (77/102)   \rReceiving objects:  76% (78/102)   \rReceiving objects:  77% (79/102)   \rReceiving objects:  78% (80/102)   \rReceiving objects:  79% (81/102)   \rReceiving objects:  80% (82/102)   \rReceiving objects:  81% (83/102)   \rReceiving objects:  82% (84/102)   \rReceiving objects:  83% (85/102)   \rReceiving objects:  84% (86/102)   \rReceiving objects:  85% (87/102)   \rReceiving objects:  86% (88/102)   \rReceiving objects:  87% (89/102)   \rReceiving objects:  88% (90/102)   \rReceiving objects:  89% (91/102)   \rReceiving objects:  90% (92/102)   \rReceiving objects:  91% (93/102)   \rReceiving objects:  92% (94/102)   \rReceiving objects:  93% (95/102)   \rReceiving objects:  94% (96/102)   \rremote: Total 102 (delta 0), reused 1 (delta 0), pack-reused 98\u001b[K\n",
            "Receiving objects:  95% (97/102)   \rReceiving objects:  96% (98/102)   \rReceiving objects:  97% (99/102)   \rReceiving objects:  98% (100/102)   \rReceiving objects:  99% (101/102)   \rReceiving objects: 100% (102/102)   \rReceiving objects: 100% (102/102), 1.02 MiB | 3.21 MiB/s, done.\n",
            "Resolving deltas:   0% (0/33)   \rResolving deltas:   9% (3/33)   \rResolving deltas:  12% (4/33)   \rResolving deltas:  21% (7/33)   \rResolving deltas:  24% (8/33)   \rResolving deltas:  33% (11/33)   \rResolving deltas:  36% (12/33)   \rResolving deltas:  39% (13/33)   \rResolving deltas:  42% (14/33)   \rResolving deltas:  45% (15/33)   \rResolving deltas:  48% (16/33)   \rResolving deltas:  51% (17/33)   \rResolving deltas:  60% (20/33)   \rResolving deltas:  90% (30/33)   \rResolving deltas: 100% (33/33)   \rResolving deltas: 100% (33/33), done.\n"
          ],
          "name": "stdout"
        }
      ]
    },
    {
      "cell_type": "code",
      "metadata": {
        "id": "JcD42lGyCSJB",
        "colab_type": "code",
        "outputId": "69ffa037-ff6b-40f8-e84a-3d55ee71f170",
        "colab": {
          "base_uri": "https://localhost:8080/",
          "height": 35
        }
      },
      "source": [
        "pushd"
      ],
      "execution_count": 11,
      "outputs": [
        {
          "output_type": "execute_result",
          "data": {
            "text/plain": [
              "['/content']"
            ]
          },
          "metadata": {
            "tags": []
          },
          "execution_count": 11
        }
      ]
    },
    {
      "cell_type": "code",
      "metadata": {
        "id": "zRIGHRXG9WUp",
        "colab_type": "code",
        "outputId": "e1f68712-e3da-4706-a13d-eaa98bacb223",
        "colab": {
          "base_uri": "https://localhost:8080/",
          "height": 35
        }
      },
      "source": [
        "%cd stylegan2/"
      ],
      "execution_count": 12,
      "outputs": [
        {
          "output_type": "stream",
          "text": [
            "/content/stylegan2\n"
          ],
          "name": "stdout"
        }
      ]
    },
    {
      "cell_type": "markdown",
      "metadata": {
        "id": "5wg7bIVpb5LM",
        "colab_type": "text"
      },
      "source": [
        "Switch to my branch for Google Colab:"
      ]
    },
    {
      "cell_type": "code",
      "metadata": {
        "id": "iVE7uZHRb11i",
        "colab_type": "code",
        "colab": {
          "base_uri": "https://localhost:8080/",
          "height": 54
        },
        "outputId": "086549ea-17d6-4105-fca0-eb152f2cac1f"
      },
      "source": [
        "!git checkout google-colab"
      ],
      "execution_count": 13,
      "outputs": [
        {
          "output_type": "stream",
          "text": [
            "Branch 'google-colab' set up to track remote branch 'google-colab' from 'origin'.\n",
            "Switched to a new branch 'google-colab'\n"
          ],
          "name": "stdout"
        }
      ]
    },
    {
      "cell_type": "code",
      "metadata": {
        "id": "6aM4C4Ho9g-A",
        "colab_type": "code",
        "outputId": "8715edc2-5bf9-4eb7-fc8b-80759eafc3c0",
        "colab": {
          "base_uri": "https://localhost:8080/",
          "height": 54
        }
      },
      "source": [
        "!nvcc test_nvcc.cu -o test_nvcc -run"
      ],
      "execution_count": 14,
      "outputs": [
        {
          "output_type": "stream",
          "text": [
            "CPU says hello.\n",
            "GPU says hello.\n"
          ],
          "name": "stdout"
        }
      ]
    },
    {
      "cell_type": "code",
      "metadata": {
        "id": "nuI-CfYYCSy-",
        "colab_type": "code",
        "outputId": "cd7c7722-4ae8-47d6-d115-c44c4c2f87f5",
        "colab": {
          "base_uri": "https://localhost:8080/",
          "height": 54
        }
      },
      "source": [
        "popd"
      ],
      "execution_count": 15,
      "outputs": [
        {
          "output_type": "stream",
          "text": [
            "/content\n",
            "popd -> /content\n"
          ],
          "name": "stdout"
        }
      ]
    },
    {
      "cell_type": "markdown",
      "metadata": {
        "id": "ovOZ16TjZgWQ",
        "colab_type": "text"
      },
      "source": [
        "### (optional) An alternative implementation in PyTorch"
      ]
    },
    {
      "cell_type": "code",
      "metadata": {
        "id": "OBvFTNZuZoIv",
        "colab_type": "code",
        "colab": {
          "base_uri": "https://localhost:8080/",
          "height": 458
        },
        "outputId": "02b620c7-b9c5-4afe-f918-1ec3c7979a78"
      },
      "source": [
        "pip install stylegan2_pytorch"
      ],
      "execution_count": 16,
      "outputs": [
        {
          "output_type": "stream",
          "text": [
            "Collecting stylegan2_pytorch\n",
            "  Downloading https://files.pythonhosted.org/packages/45/c1/24136f7c176ab0d174cb9206be063c9e0d04a0e33f24289abe91193736a4/stylegan2_pytorch-0.4.12.tar.gz\n",
            "Collecting fire\n",
            "\u001b[?25l  Downloading https://files.pythonhosted.org/packages/d9/69/faeaae8687f4de0f5973694d02e9d6c3eb827636a009157352d98de1129e/fire-0.2.1.tar.gz (76kB)\n",
            "\u001b[K     |████████████████████████████████| 81kB 4.7MB/s \n",
            "\u001b[?25hRequirement already satisfied: numpy in /usr/local/lib/python3.6/dist-packages (from stylegan2_pytorch) (1.17.5)\n",
            "Requirement already satisfied: tqdm in /usr/local/lib/python3.6/dist-packages (from stylegan2_pytorch) (4.28.1)\n",
            "Requirement already satisfied: torch in /usr/local/lib/python3.6/dist-packages (from stylegan2_pytorch) (1.4.0)\n",
            "Requirement already satisfied: torchvision in /usr/local/lib/python3.6/dist-packages (from stylegan2_pytorch) (0.5.0)\n",
            "Requirement already satisfied: pillow in /usr/local/lib/python3.6/dist-packages (from stylegan2_pytorch) (6.2.2)\n",
            "Collecting torch_optimizer\n",
            "  Downloading https://files.pythonhosted.org/packages/5f/82/168a55e13ed8098c4dce4507a53bd20031a1ef8be261ac793758902e19bd/torch_optimizer-0.0.1a6-py3-none-any.whl\n",
            "Requirement already satisfied: six in /usr/local/lib/python3.6/dist-packages (from fire->stylegan2_pytorch) (1.12.0)\n",
            "Requirement already satisfied: termcolor in /usr/local/lib/python3.6/dist-packages (from fire->stylegan2_pytorch) (1.1.0)\n",
            "Building wheels for collected packages: stylegan2-pytorch, fire\n",
            "  Building wheel for stylegan2-pytorch (setup.py) ... \u001b[?25l\u001b[?25hdone\n",
            "  Created wheel for stylegan2-pytorch: filename=stylegan2_pytorch-0.4.12-cp36-none-any.whl size=8655 sha256=22b3617fac17cbc6d8cf0bfeb0858295324f783c2cd032a7332b60cce92b5fad\n",
            "  Stored in directory: /root/.cache/pip/wheels/41/b4/e6/68de6ebb7269078afeb67f06c9d7a80a9673301162377dd666\n",
            "  Building wheel for fire (setup.py) ... \u001b[?25l\u001b[?25hdone\n",
            "  Created wheel for fire: filename=fire-0.2.1-py2.py3-none-any.whl size=103528 sha256=1d7a54acee464e5f82b86676a01541e4f167c0c2d48d3f35723e3acff0325d71\n",
            "  Stored in directory: /root/.cache/pip/wheels/31/9c/c0/07b6dc7faf1844bb4688f46b569efe6cafaa2179c95db821da\n",
            "Successfully built stylegan2-pytorch fire\n",
            "Installing collected packages: fire, torch-optimizer, stylegan2-pytorch\n",
            "Successfully installed fire-0.2.1 stylegan2-pytorch-0.4.12 torch-optimizer-0.0.1a6\n"
          ],
          "name": "stdout"
        }
      ]
    },
    {
      "cell_type": "markdown",
      "metadata": {
        "id": "VgwgYzlkyCrU",
        "colab_type": "text"
      },
      "source": [
        "## Mounting Google Drive"
      ]
    },
    {
      "cell_type": "code",
      "metadata": {
        "id": "GmokzZyCKA5o",
        "colab_type": "code",
        "outputId": "df8a02e3-835f-4de7-f72b-d44e5958901d",
        "colab": {
          "base_uri": "https://localhost:8080/",
          "height": 90
        }
      },
      "source": [
        "!pip install Google-Colab-Transfer"
      ],
      "execution_count": 17,
      "outputs": [
        {
          "output_type": "stream",
          "text": [
            "Collecting Google-Colab-Transfer\n",
            "  Downloading https://files.pythonhosted.org/packages/e7/53/c56c225c6e147bf68f79e9f6773549a167af5da0b18d362bc7a62bdef9a1/Google_Colab_Transfer-0.1.4-py3-none-any.whl\n",
            "Installing collected packages: Google-Colab-Transfer\n",
            "Successfully installed Google-Colab-Transfer-0.1.4\n"
          ],
          "name": "stdout"
        }
      ]
    },
    {
      "cell_type": "code",
      "metadata": {
        "id": "PXvJm3hCKWGf",
        "colab_type": "code",
        "outputId": "04284a07-d2d1-4bf5-eee6-03a90ba9d927",
        "colab": {
          "base_uri": "https://localhost:8080/",
          "height": 54
        }
      },
      "source": [
        "import colab_transfer\n",
        "\n",
        "colab_path = colab_transfer.get_path_to_home_of_local_machine()\n",
        "drive_path = colab_transfer.get_path_to_home_of_google_drive()\n",
        "\n",
        "print('Disk of the virtual matchine: {}'.format(colab_path))\n",
        "print('Google Drive: {}'.format(drive_path))"
      ],
      "execution_count": 18,
      "outputs": [
        {
          "output_type": "stream",
          "text": [
            "Disk of the virtual matchine: /content/\n",
            "Google Drive: /content/drive/My Drive/\n"
          ],
          "name": "stdout"
        }
      ]
    },
    {
      "cell_type": "code",
      "metadata": {
        "id": "Tpi-xxZxAD_V",
        "colab_type": "code",
        "colab": {}
      },
      "source": [
        "colab_transfer.mount_google_drive()"
      ],
      "execution_count": 0,
      "outputs": []
    },
    {
      "cell_type": "markdown",
      "metadata": {
        "id": "S4DIqyvHz54C",
        "colab_type": "text"
      },
      "source": [
        "## Data parameters"
      ]
    },
    {
      "cell_type": "code",
      "metadata": {
        "id": "57TSMi1NzmNJ",
        "colab_type": "code",
        "colab": {}
      },
      "source": [
        "folder_name = 'datasets/steam/'"
      ],
      "execution_count": 0,
      "outputs": []
    },
    {
      "cell_type": "markdown",
      "metadata": {
        "id": "ruo5KFL4yw0j",
        "colab_type": "text"
      },
      "source": [
        "## Preparing datasets (once)"
      ]
    },
    {
      "cell_type": "markdown",
      "metadata": {
        "id": "Aj-3t7dM98dj",
        "colab_type": "text"
      },
      "source": [
        "### Importing data from Google Drive"
      ]
    },
    {
      "cell_type": "markdown",
      "metadata": {
        "id": "OwMz7FvWboio",
        "colab_type": "text"
      },
      "source": [
        "Data consists of 14,035 vertical Steam banners, resized from 300x450 to 256x256 resolution."
      ]
    },
    {
      "cell_type": "code",
      "metadata": {
        "id": "UyTYYYpU8mie",
        "colab_type": "code",
        "outputId": "5f6981fc-ca6e-4a13-dbaa-81bc6ceaa9cb",
        "colab": {
          "base_uri": "https://localhost:8080/",
          "height": 35
        }
      },
      "source": [
        "colab_transfer.copy_file(file_name='256x256.zip')"
      ],
      "execution_count": 0,
      "outputs": [
        {
          "output_type": "stream",
          "text": [
            "File /content/256x256.zip already exists. Copy skipped.\n"
          ],
          "name": "stdout"
        }
      ]
    },
    {
      "cell_type": "code",
      "metadata": {
        "id": "04SYpwjy8_5G",
        "colab_type": "code",
        "colab": {}
      },
      "source": [
        "!unzip 256x256.zip -d /content/"
      ],
      "execution_count": 0,
      "outputs": []
    },
    {
      "cell_type": "markdown",
      "metadata": {
        "id": "iL6_7wnZKo3w",
        "colab_type": "text"
      },
      "source": [
        "### Preparing data for StyleGAN2"
      ]
    },
    {
      "cell_type": "code",
      "metadata": {
        "id": "whUYxCDgK66P",
        "colab_type": "code",
        "outputId": "947ccd40-d8ec-4339-e765-c5408c6600c7",
        "colab": {
          "base_uri": "https://localhost:8080/",
          "height": 72
        }
      },
      "source": [
        "!python stylegan2/dataset_tool.py create_from_images '/content/datasets/steam' '/content/256x256'"
      ],
      "execution_count": 0,
      "outputs": [
        {
          "output_type": "stream",
          "text": [
            "Loading images from \"/content/256x256\"\n",
            "Creating dataset \"/content/datasets/steam\"\n",
            "Added 14035 images.\n"
          ],
          "name": "stdout"
        }
      ]
    },
    {
      "cell_type": "markdown",
      "metadata": {
        "id": "uDtZ9CVSBvkZ",
        "colab_type": "text"
      },
      "source": [
        "### Archive prepared datasets to Google Drive"
      ]
    },
    {
      "cell_type": "code",
      "metadata": {
        "id": "5b5PxndUQjvp",
        "colab_type": "code",
        "outputId": "765d3efd-b18d-45bd-fc2a-55ae8697550a",
        "colab": {
          "base_uri": "https://localhost:8080/",
          "height": 35
        }
      },
      "source": [
        "colab_transfer.copy_folder(folder_name,\n",
        "                           source=colab_path,\n",
        "                           destination=drive_path)"
      ],
      "execution_count": 0,
      "outputs": [
        {
          "output_type": "stream",
          "text": [
            "Copying /content/datasets/steam/ to /content/drive/My Drive/datasets/steam/\n"
          ],
          "name": "stdout"
        }
      ]
    },
    {
      "cell_type": "markdown",
      "metadata": {
        "id": "K-gghiqKRddO",
        "colab_type": "text"
      },
      "source": [
        "## Importing prepared datasets from Google Drive"
      ]
    },
    {
      "cell_type": "code",
      "metadata": {
        "id": "8SE22FIqBStI",
        "colab_type": "code",
        "outputId": "73710e36-3882-48f4-88d9-78765f087a0c",
        "colab": {
          "base_uri": "https://localhost:8080/",
          "height": 35
        }
      },
      "source": [
        "colab_transfer.copy_folder(folder_name,\n",
        "                           source=drive_path,\n",
        "                           destination=colab_path)"
      ],
      "execution_count": 21,
      "outputs": [
        {
          "output_type": "stream",
          "text": [
            "Copying /content/drive/My Drive/datasets/steam/ to /content/datasets/steam/\n"
          ],
          "name": "stdout"
        }
      ]
    },
    {
      "cell_type": "markdown",
      "metadata": {
        "id": "RWpIjP7hKzJZ",
        "colab_type": "text"
      },
      "source": [
        "## Training networks"
      ]
    },
    {
      "cell_type": "markdown",
      "metadata": {
        "id": "lSZg2xJznZkI",
        "colab_type": "text"
      },
      "source": [
        "There is no need to edit `training/training_loop.py`, thanks to automatic resuming from the latest snapshot, implemented in my fork.\n",
        "\n",
        "Otherwise, one would have to manually edit the file from within the Google Colab session!"
      ]
    },
    {
      "cell_type": "markdown",
      "metadata": {
        "id": "4iFEnZL42vQi",
        "colab_type": "text"
      },
      "source": [
        "### Train with the official StyleGAN2 implementation"
      ]
    },
    {
      "cell_type": "markdown",
      "metadata": {
        "id": "eofNxzR97Fah",
        "colab_type": "text"
      },
      "source": [
        "Our Steam data consists of ~14k images, which exhibits a similar dataset size to the [FFHQ dataset](https://github.com/NVlabs/ffhq-dataset) (70k images, so 5 times larger).\n",
        "\n",
        "Therefore, the parameters used for our data are inspired from the ones described in the StyleGAN2 README for the FFHQ dataset:\n",
        "- `--mirror-augment=true`: data augmentation with horitontal mirroring,\n",
        "- `--total-kimg=5000`: during training with our Steam data, StyleGAN2 will be shown 5 times fewer images than during training with the FFHQ data (the default value used for FFHQ is 25 million images: `--total-kimg=25000`).\n",
        "\n",
        "Model snapshots are directly saved to Google Drive (`--result-dir='/content/drive/My Drive/results'`)."
      ]
    },
    {
      "cell_type": "code",
      "metadata": {
        "id": "DhPl13bPMaWd",
        "colab_type": "code",
        "colab": {}
      },
      "source": [
        "!python stylegan2/run_training.py --config=config-e --metrics=none \\\n",
        "   --data-dir='/content/datasets' --dataset=steam \\\n",
        "   --mirror-augment=true \\\n",
        "   --total-kimg=5000 \\\n",
        "   --result-dir='/content/drive/My Drive/results' \\\n"
      ],
      "execution_count": 0,
      "outputs": []
    },
    {
      "cell_type": "markdown",
      "metadata": {
        "id": "yZcnE66aUS88",
        "colab_type": "text"
      },
      "source": [
        "### (optional) Train with an alternative implementation in PyTorch"
      ]
    },
    {
      "cell_type": "code",
      "metadata": {
        "id": "C8S0Xb_tUdkC",
        "colab_type": "code",
        "colab": {}
      },
      "source": [
        "# !stylegan2_pytorch --data /content/256x256 --image-size 256 \\\n",
        "#    --results_dir '/content/drive/My Drive/pytorch/results' \\\n",
        "#    --models_dir '/content/drive/My Drive/pytorch/models' \\\n",
        "#    --name steam   "
      ],
      "execution_count": 0,
      "outputs": []
    },
    {
      "cell_type": "markdown",
      "metadata": {
        "id": "TC68UyzRMBXW",
        "colab_type": "text"
      },
      "source": [
        "## Generating images"
      ]
    },
    {
      "cell_type": "markdown",
      "metadata": {
        "id": "D3ZBUzKz2yRG",
        "colab_type": "text"
      },
      "source": [
        "### Load the snapshots from Google Drive"
      ]
    },
    {
      "cell_type": "code",
      "metadata": {
        "id": "8sjgaQS0EAoa",
        "colab_type": "code",
        "colab": {}
      },
      "source": [
        "result_root_folder = 'results/'"
      ],
      "execution_count": 0,
      "outputs": []
    },
    {
      "cell_type": "code",
      "metadata": {
        "id": "YepcGIwY3wc2",
        "colab_type": "code",
        "colab": {}
      },
      "source": [
        "result_folder_name_to_load = '00000-stylegan2-steam-1gpu-config-e'"
      ],
      "execution_count": 0,
      "outputs": []
    },
    {
      "cell_type": "code",
      "metadata": {
        "id": "B89Gw4gs2uJS",
        "colab_type": "code",
        "colab": {}
      },
      "source": [
        "colab_transfer.copy_folder(result_folder_name_to_load,\n",
        "                           source=drive_path + result_root_folder,\n",
        "                           destination=colab_path + result_root_folder)"
      ],
      "execution_count": 0,
      "outputs": []
    },
    {
      "cell_type": "markdown",
      "metadata": {
        "id": "NhMX-zHeaU1R",
        "colab_type": "text"
      },
      "source": [
        "### Using the first snapshot"
      ]
    },
    {
      "cell_type": "code",
      "metadata": {
        "id": "vBDpscI6F0Dm",
        "colab_type": "code",
        "colab": {}
      },
      "source": [
        "# Generate 1000 random images without truncation\n",
        "!python stylegan2/run_generator.py generate-images \\\n",
        "  --seeds=0-999 --truncation-psi=1.0 \\\n",
        "  --network=results/00000-stylegan2-steam-1gpu-config-e/network-snapshot-000000.pkl"
      ],
      "execution_count": 0,
      "outputs": []
    },
    {
      "cell_type": "markdown",
      "metadata": {
        "id": "rmiRsfUzaW4F",
        "colab_type": "text"
      },
      "source": [
        "### Using the last snapshot"
      ]
    },
    {
      "cell_type": "code",
      "metadata": {
        "id": "l0U5xBeUMKIn",
        "colab_type": "code",
        "colab": {}
      },
      "source": [
        "# Generate 1000 random images without truncation\n",
        "!python stylegan2/run_generator.py generate-images \\\n",
        "  --seeds=0-999 --truncation-psi=1.0 \\\n",
        "  --network=results/00000-stylegan2-steam-1gpu-config-e/networks-final.pkl"
      ],
      "execution_count": 0,
      "outputs": []
    }
  ]
}