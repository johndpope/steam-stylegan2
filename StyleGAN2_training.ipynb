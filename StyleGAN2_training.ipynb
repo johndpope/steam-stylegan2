{
  "nbformat": 4,
  "nbformat_minor": 0,
  "metadata": {
    "colab": {
      "name": "StyleGAN2_training.ipynb",
      "provenance": [],
      "collapsed_sections": [
        "N0wX_GxarslT",
        "hNkwlDEyZdGM",
        "VgwgYzlkyCrU",
        "iL6_7wnZKo3w",
        "uDtZ9CVSBvkZ"
      ],
      "machine_shape": "hm"
    },
    "kernelspec": {
      "name": "python3",
      "display_name": "Python 3"
    },
    "accelerator": "GPU"
  },
  "cells": [
    {
      "cell_type": "markdown",
      "metadata": {
        "id": "8UDVO2FGKIQw",
        "colab_type": "text"
      },
      "source": [
        "# StyleGAN2: training a model from scratch\n",
        "\n",
        "References:\n",
        "- this notebook: https://github.com/woctezuma/steam-stylegan2\n",
        "- the original StyleGAN2 repository: https://github.com/NVlabs/stylegan2\n",
        "- my fork of StyleGAN2: https://github.com/woctezuma/stylegan2\n"
      ]
    },
    {
      "cell_type": "markdown",
      "metadata": {
        "id": "-je4l8LJ-txY",
        "colab_type": "text"
      },
      "source": [
        "## Machine specifications"
      ]
    },
    {
      "cell_type": "markdown",
      "metadata": {
        "id": "N0wX_GxarslT",
        "colab_type": "text"
      },
      "source": [
        "### Request more RAM (once per session)"
      ]
    },
    {
      "cell_type": "markdown",
      "metadata": {
        "id": "Qjh5oBhkru6O",
        "colab_type": "text"
      },
      "source": [
        "To have access to more memory, crash the Google Colab session  once.\n",
        "\n",
        "References:\n",
        "-   https://github.com/googlecolab/colabtools/issues/253#issuecomment-551056637\n",
        "-   https://colab.research.google.com/drive/1dBN-wwYUngLYVt985wGs_OKPlK_ANB9D"
      ]
    },
    {
      "cell_type": "code",
      "metadata": {
        "id": "lLP2m_K1sgu4",
        "colab_type": "code",
        "colab": {}
      },
      "source": [
        "# d = [ '0' ]\n",
        "# while(True):\n",
        "#   d += d"
      ],
      "execution_count": 0,
      "outputs": []
    },
    {
      "cell_type": "markdown",
      "metadata": {
        "id": "4929mTMm_bJP",
        "colab_type": "text"
      },
      "source": [
        "### Check the GPU"
      ]
    },
    {
      "cell_type": "code",
      "metadata": {
        "id": "eJj2bOM-9aur",
        "colab_type": "code",
        "outputId": "57cca475-ae27-4c74-eccc-8fb858ccd465",
        "colab": {
          "base_uri": "https://localhost:8080/",
          "height": 35
        }
      },
      "source": [
        "!nvidia-smi -L"
      ],
      "execution_count": 0,
      "outputs": [
        {
          "output_type": "stream",
          "text": [
            "GPU 0: Tesla P100-PCIE-16GB (UUID: GPU-7929352f-92c7-317b-d430-5469f9aeaca8)\n"
          ],
          "name": "stdout"
        }
      ]
    },
    {
      "cell_type": "markdown",
      "metadata": {
        "id": "sbWQ38fBoo4h",
        "colab_type": "text"
      },
      "source": [
        "### Switch to Tensorflow 1.x"
      ]
    },
    {
      "cell_type": "markdown",
      "metadata": {
        "id": "is5dko6You4K",
        "colab_type": "text"
      },
      "source": [
        "The default TensorFlow version in Colab switched from  1.x to 2.x on the 27th of March, 2020.\n",
        "\n",
        "Reference: https://colab.research.google.com/notebooks/tensorflow_version.ipynb\n",
        "\n",
        "We switch to version 1.x to avoid the following error:\n",
        "> `ModuleNotFoundError: No module named 'tensorflow.contrib' colab`"
      ]
    },
    {
      "cell_type": "code",
      "metadata": {
        "id": "kHL4_p1xnoDY",
        "colab_type": "code",
        "outputId": "7d467d11-98f1-47c6-abab-2d006eea9ef4",
        "colab": {
          "base_uri": "https://localhost:8080/",
          "height": 35
        }
      },
      "source": [
        "%tensorflow_version 1.x"
      ],
      "execution_count": 0,
      "outputs": [
        {
          "output_type": "stream",
          "text": [
            "TensorFlow 1.x selected.\n"
          ],
          "name": "stdout"
        }
      ]
    },
    {
      "cell_type": "markdown",
      "metadata": {
        "id": "g0oZRRs2KO5A",
        "colab_type": "text"
      },
      "source": [
        "## Installing StyleGAN2"
      ]
    },
    {
      "cell_type": "markdown",
      "metadata": {
        "id": "hNkwlDEyZdGM",
        "colab_type": "text"
      },
      "source": [
        "### My fork of the official StyleGAN2 implementation"
      ]
    },
    {
      "cell_type": "code",
      "metadata": {
        "id": "kKTH4FGzCbaq",
        "colab_type": "code",
        "outputId": "fbef8707-992f-4718-a9a0-9a32031e6bbc",
        "colab": {
          "base_uri": "https://localhost:8080/",
          "height": 35
        }
      },
      "source": [
        "%cd /content/"
      ],
      "execution_count": 0,
      "outputs": [
        {
          "output_type": "stream",
          "text": [
            "/content\n"
          ],
          "name": "stdout"
        }
      ]
    },
    {
      "cell_type": "markdown",
      "metadata": {
        "id": "c4r0G3p5AJa0",
        "colab_type": "text"
      },
      "source": [
        "Clone my fork:"
      ]
    },
    {
      "cell_type": "code",
      "metadata": {
        "id": "mGDunHOOKtFQ",
        "colab_type": "code",
        "outputId": "88eafb7d-bcc6-47f2-8da2-91a7e0c532df",
        "colab": {
          "base_uri": "https://localhost:8080/",
          "height": 109
        }
      },
      "source": [
        "!rm -rf stylegan2/\n",
        "!git clone https://github.com/woctezuma/stylegan2.git"
      ],
      "execution_count": 0,
      "outputs": [
        {
          "output_type": "stream",
          "text": [
            "Cloning into 'stylegan2'...\n",
            "remote: Enumerating objects: 120, done.\u001b[K\n",
            "remote: Total 120 (delta 0), reused 0 (delta 0), pack-reused 120\u001b[K\n",
            "Receiving objects: 100% (120/120), 583.49 KiB | 13.89 MiB/s, done.\n",
            "Resolving deltas: 100% (53/53), done.\n"
          ],
          "name": "stdout"
        }
      ]
    },
    {
      "cell_type": "code",
      "metadata": {
        "id": "JcD42lGyCSJB",
        "colab_type": "code",
        "outputId": "8b36ac42-baca-4e84-d138-42c75791f392",
        "colab": {
          "base_uri": "https://localhost:8080/",
          "height": 35
        }
      },
      "source": [
        "pushd"
      ],
      "execution_count": 0,
      "outputs": [
        {
          "output_type": "execute_result",
          "data": {
            "text/plain": [
              "['/content']"
            ]
          },
          "metadata": {
            "tags": []
          },
          "execution_count": 6
        }
      ]
    },
    {
      "cell_type": "code",
      "metadata": {
        "id": "zRIGHRXG9WUp",
        "colab_type": "code",
        "outputId": "0ad56dcb-5c5f-4d8b-9a61-97c4d58d152f",
        "colab": {
          "base_uri": "https://localhost:8080/",
          "height": 35
        }
      },
      "source": [
        "%cd stylegan2/"
      ],
      "execution_count": 0,
      "outputs": [
        {
          "output_type": "stream",
          "text": [
            "/content/stylegan2\n"
          ],
          "name": "stdout"
        }
      ]
    },
    {
      "cell_type": "markdown",
      "metadata": {
        "id": "5wg7bIVpb5LM",
        "colab_type": "text"
      },
      "source": [
        "Switch to one of my branches, designed for Google Colab:\n",
        "-   `google-colab` to save every 2 ticks,\n",
        "-   `google-colab-save-every-tick` to save every tick.\n",
        "\n",
        "NB: It is expected that 1 tick ~ 15 min. However, if you are unlucky with the Colab machine which is allotted, 1 tick ~ 1 hour."
      ]
    },
    {
      "cell_type": "code",
      "metadata": {
        "id": "iVE7uZHRb11i",
        "colab_type": "code",
        "outputId": "02b19d7e-94bf-4d82-878b-2f534ecb3096",
        "colab": {
          "base_uri": "https://localhost:8080/",
          "height": 54
        }
      },
      "source": [
        "!git checkout google-colab-save-every-tick"
      ],
      "execution_count": 0,
      "outputs": [
        {
          "output_type": "stream",
          "text": [
            "Branch 'google-colab-save-every-tick' set up to track remote branch 'google-colab-save-every-tick' from 'origin'.\n",
            "Switched to a new branch 'google-colab-save-every-tick'\n"
          ],
          "name": "stdout"
        }
      ]
    },
    {
      "cell_type": "code",
      "metadata": {
        "id": "6aM4C4Ho9g-A",
        "colab_type": "code",
        "outputId": "e132e738-00a5-4042-b194-1d282db3c9d3",
        "colab": {
          "base_uri": "https://localhost:8080/",
          "height": 54
        }
      },
      "source": [
        "!nvcc test_nvcc.cu -o test_nvcc -run"
      ],
      "execution_count": 0,
      "outputs": [
        {
          "output_type": "stream",
          "text": [
            "CPU says hello.\n",
            "GPU says hello.\n"
          ],
          "name": "stdout"
        }
      ]
    },
    {
      "cell_type": "code",
      "metadata": {
        "id": "nuI-CfYYCSy-",
        "colab_type": "code",
        "outputId": "ab245052-e0ea-4c60-ae8c-9a22a058f42b",
        "colab": {
          "base_uri": "https://localhost:8080/",
          "height": 54
        }
      },
      "source": [
        "popd"
      ],
      "execution_count": 0,
      "outputs": [
        {
          "output_type": "stream",
          "text": [
            "/content\n",
            "popd -> /content\n"
          ],
          "name": "stdout"
        }
      ]
    },
    {
      "cell_type": "markdown",
      "metadata": {
        "id": "VgwgYzlkyCrU",
        "colab_type": "text"
      },
      "source": [
        "## Mounting Google Drive"
      ]
    },
    {
      "cell_type": "code",
      "metadata": {
        "id": "GmokzZyCKA5o",
        "colab_type": "code",
        "outputId": "8b3bd609-47d3-439d-9ffa-e282d7cb8a4c",
        "colab": {
          "base_uri": "https://localhost:8080/",
          "height": 35
        }
      },
      "source": [
        "!pip install Google-Colab-Transfer"
      ],
      "execution_count": 0,
      "outputs": [
        {
          "output_type": "stream",
          "text": [
            "Requirement already satisfied: Google-Colab-Transfer in /usr/local/lib/python3.6/dist-packages (0.1.4)\n"
          ],
          "name": "stdout"
        }
      ]
    },
    {
      "cell_type": "code",
      "metadata": {
        "id": "PXvJm3hCKWGf",
        "colab_type": "code",
        "outputId": "c2979daa-ca56-4dec-cb4f-7dbf381feba8",
        "colab": {
          "base_uri": "https://localhost:8080/",
          "height": 54
        }
      },
      "source": [
        "import colab_transfer\n",
        "\n",
        "colab_path = colab_transfer.get_path_to_home_of_local_machine()\n",
        "drive_path = colab_transfer.get_path_to_home_of_google_drive()\n",
        "\n",
        "print('Disk of the virtual matchine: {}'.format(colab_path))\n",
        "print('Google Drive: {}'.format(drive_path))"
      ],
      "execution_count": 0,
      "outputs": [
        {
          "output_type": "stream",
          "text": [
            "Disk of the virtual matchine: /content/\n",
            "Google Drive: /content/drive/My Drive/\n"
          ],
          "name": "stdout"
        }
      ]
    },
    {
      "cell_type": "code",
      "metadata": {
        "id": "Tpi-xxZxAD_V",
        "colab_type": "code",
        "outputId": "b406c97c-5367-48b9-a102-5d3d8fc1754a",
        "colab": {
          "base_uri": "https://localhost:8080/",
          "height": 35
        }
      },
      "source": [
        "colab_transfer.mount_google_drive()"
      ],
      "execution_count": 0,
      "outputs": [
        {
          "output_type": "stream",
          "text": [
            "Drive already mounted at /content/drive/; to attempt to forcibly remount, call drive.mount(\"/content/drive/\", force_remount=True).\n"
          ],
          "name": "stdout"
        }
      ]
    },
    {
      "cell_type": "markdown",
      "metadata": {
        "id": "S4DIqyvHz54C",
        "colab_type": "text"
      },
      "source": [
        "## Data parameters"
      ]
    },
    {
      "cell_type": "code",
      "metadata": {
        "id": "57TSMi1NzmNJ",
        "colab_type": "code",
        "colab": {}
      },
      "source": [
        "folder_name = 'datasets/steam/'"
      ],
      "execution_count": 0,
      "outputs": []
    },
    {
      "cell_type": "markdown",
      "metadata": {
        "id": "ruo5KFL4yw0j",
        "colab_type": "text"
      },
      "source": [
        "## Preparing datasets (once)"
      ]
    },
    {
      "cell_type": "markdown",
      "metadata": {
        "id": "Aj-3t7dM98dj",
        "colab_type": "text"
      },
      "source": [
        "### Importing data from Google Drive"
      ]
    },
    {
      "cell_type": "markdown",
      "metadata": {
        "id": "OwMz7FvWboio",
        "colab_type": "text"
      },
      "source": [
        "Data consists of 14,035 vertical Steam banners, resized from 300x450 to 256x256 resolution."
      ]
    },
    {
      "cell_type": "code",
      "metadata": {
        "id": "UyTYYYpU8mie",
        "colab_type": "code",
        "colab": {}
      },
      "source": [
        "# colab_transfer.copy_file(file_name='256x256.zip')"
      ],
      "execution_count": 0,
      "outputs": []
    },
    {
      "cell_type": "code",
      "metadata": {
        "id": "04SYpwjy8_5G",
        "colab_type": "code",
        "colab": {}
      },
      "source": [
        "# !unzip 256x256.zip -d /content/"
      ],
      "execution_count": 0,
      "outputs": []
    },
    {
      "cell_type": "markdown",
      "metadata": {
        "id": "iL6_7wnZKo3w",
        "colab_type": "text"
      },
      "source": [
        "### Preparing data for StyleGAN2"
      ]
    },
    {
      "cell_type": "code",
      "metadata": {
        "id": "whUYxCDgK66P",
        "colab_type": "code",
        "colab": {}
      },
      "source": [
        "# !python stylegan2/dataset_tool.py create_from_images '/content/datasets/steam' '/content/256x256'"
      ],
      "execution_count": 0,
      "outputs": []
    },
    {
      "cell_type": "markdown",
      "metadata": {
        "id": "uDtZ9CVSBvkZ",
        "colab_type": "text"
      },
      "source": [
        "### Archive prepared datasets to Google Drive"
      ]
    },
    {
      "cell_type": "code",
      "metadata": {
        "id": "5b5PxndUQjvp",
        "colab_type": "code",
        "colab": {}
      },
      "source": [
        "# colab_transfer.copy_folder(folder_name,\n",
        "#                            source=colab_path,\n",
        "#                            destination=drive_path)"
      ],
      "execution_count": 0,
      "outputs": []
    },
    {
      "cell_type": "markdown",
      "metadata": {
        "id": "K-gghiqKRddO",
        "colab_type": "text"
      },
      "source": [
        "## Importing prepared datasets from Google Drive"
      ]
    },
    {
      "cell_type": "code",
      "metadata": {
        "id": "8SE22FIqBStI",
        "colab_type": "code",
        "colab": {}
      },
      "source": [
        "colab_transfer.copy_folder(folder_name,\n",
        "                           source=drive_path,\n",
        "                           destination=colab_path)"
      ],
      "execution_count": 0,
      "outputs": []
    },
    {
      "cell_type": "markdown",
      "metadata": {
        "id": "RWpIjP7hKzJZ",
        "colab_type": "text"
      },
      "source": [
        "## Training networks"
      ]
    },
    {
      "cell_type": "markdown",
      "metadata": {
        "id": "lSZg2xJznZkI",
        "colab_type": "text"
      },
      "source": [
        "There is no need to edit `training/training_loop.py`, thanks to automatic resuming from the latest snapshot, implemented in my fork.\n",
        "\n",
        "Otherwise, one would have to manually edit the file from within the Google Colab session!"
      ]
    },
    {
      "cell_type": "markdown",
      "metadata": {
        "id": "4iFEnZL42vQi",
        "colab_type": "text"
      },
      "source": [
        "### Train with the official StyleGAN2 implementation"
      ]
    },
    {
      "cell_type": "markdown",
      "metadata": {
        "id": "eofNxzR97Fah",
        "colab_type": "text"
      },
      "source": [
        "Our Steam data consists of ~14k images, which exhibits a similar dataset size to the [FFHQ dataset](https://github.com/NVlabs/ffhq-dataset) (70k images, so 5 times larger).\n",
        "\n",
        "Therefore, the parameters used for our data are inspired from the ones described in the StyleGAN2 README for the FFHQ dataset:\n",
        "- `--mirror-augment=true`: data augmentation with horitontal mirroring,\n",
        "- `--total-kimg=5000`: during training with our Steam data, StyleGAN2 will be shown 5 times fewer images than during training with the FFHQ data (the default value used for FFHQ is 25 million images: `--total-kimg=25000`). **Caveat:** this is an arbitrary decision: there is no good rule-of-thumb! Indeed, the right value would depend on the difficulty of the task (the more complex the task to learn, the longer training is **needed** ; e.g. generating game banners vs. human faces, 256x256 resolution vs. 1024x1024 resolution, etc.), and not solely on the size of the training dataset (the more diverse data is available, the longer training is **possible** without over-fitting the training dataset).\n",
        "\n",
        "Model snapshots are directly saved to Google Drive (`--result-dir='/content/drive/My Drive/results'`)."
      ]
    },
    {
      "cell_type": "code",
      "metadata": {
        "id": "DhPl13bPMaWd",
        "colab_type": "code",
        "colab": {}
      },
      "source": [
        "!python stylegan2/run_training.py --config=config-e --metrics=none \\\n",
        "   --data-dir='/content/datasets' --dataset=steam \\\n",
        "   --mirror-augment=true \\\n",
        "   --total-kimg=5000 \\\n",
        "   --result-dir='/content/drive/My Drive/results' \\\n"
      ],
      "execution_count": 0,
      "outputs": []
    }
  ]
}